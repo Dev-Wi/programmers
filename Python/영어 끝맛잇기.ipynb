{
 "cells": [
  {
   "cell_type": "code",
   "execution_count": 17,
   "metadata": {},
   "outputs": [
    {
     "name": "stdout",
     "output_type": "stream",
     "text": [
      "2\n",
      "['hello', 'one']\n",
      "3\n",
      "['hello', 'one', 'even']\n",
      "4\n"
     ]
    },
    {
     "data": {
      "text/plain": [
       "[1, 2]"
      ]
     },
     "execution_count": 17,
     "metadata": {},
     "output_type": "execute_result"
    }
   ],
   "source": [
    "def solution(n, words):\n",
    "    man = 1\n",
    "    cnt = 0\n",
    "    turn = 1\n",
    "    used = [words[0]]\n",
    "    while cnt < len(words)-1:\n",
    "        cnt += 1\n",
    "        man += 1\n",
    "        print(man)\n",
    "        if man == n+1:\n",
    "            man = 1\n",
    "            turn += 1\n",
    "        if words[cnt] in used:\n",
    "            return [man, turn]\n",
    "        if words[cnt-1][-1] != words[cnt][0] or len(words[cnt]) <= 1 or words[cnt] in used:\n",
    "            break\n",
    "        used.append(words[cnt])\n",
    "        print(used)\n",
    "    if cnt == len(words)-1:\n",
    "        return [0, 0]\n",
    "    return [man, turn]\n",
    "\n",
    "n = 3\n",
    "words = [\"hello\", \"one\", \"even\", \"hello\", \"never\", \"now\", \"world\", \"draw\"]\n",
    "solution(n, words)"
   ]
  }
 ],
 "metadata": {
  "kernelspec": {
   "display_name": "Python 3",
   "language": "python",
   "name": "python3"
  },
  "language_info": {
   "codemirror_mode": {
    "name": "ipython",
    "version": 3
   },
   "file_extension": ".py",
   "mimetype": "text/x-python",
   "name": "python",
   "nbconvert_exporter": "python",
   "pygments_lexer": "ipython3",
   "version": "3.9.13"
  },
  "orig_nbformat": 4
 },
 "nbformat": 4,
 "nbformat_minor": 2
}
