{
 "cells": [
  {
   "cell_type": "code",
   "execution_count": 134,
   "metadata": {},
   "outputs": [
    {
     "name": "stdout",
     "output_type": "stream",
     "text": [
      "['20', '111', '111']\n"
     ]
    },
    {
     "data": {
      "text/plain": [
       "[20, 111]"
      ]
     },
     "execution_count": 134,
     "metadata": {},
     "output_type": "execute_result"
    }
   ],
   "source": [
    "def solution(s):\n",
    "    answer = []\n",
    "    s = s.replace('{', '')\n",
    "    s = s.replace('}', '')\n",
    "    s = s.split(',')\n",
    "    print(s)\n",
    "    if len(s) == 1:\n",
    "        return [int(s[0])]\n",
    "    for i in s:\n",
    "        if int(i) not in answer:\n",
    "            answer.append(int(i))\n",
    "    return answer\n",
    "\n",
    "s = \"{{20,111},{111}}\"\n",
    "solution(s)"
   ]
  },
  {
   "cell_type": "code",
   "execution_count": 141,
   "metadata": {},
   "outputs": [
    {
     "name": "stdout",
     "output_type": "stream",
     "text": [
      "20,111&111&111,20,333&20,333,444,111\n"
     ]
    },
    {
     "data": {
      "text/plain": [
       "['20,111', '111', '111,20,333', '20,333,444,111']"
      ]
     },
     "execution_count": 141,
     "metadata": {},
     "output_type": "execute_result"
    }
   ],
   "source": [
    "s = \"{{20,111},{111},{111,20,333},{20,333,444,111}}\"\n",
    "s = s.replace('{{', '')\n",
    "s = s.replace('}}', '')\n",
    "s = s.replace('},{', '&')\n",
    "print(s)\n",
    "s = s.split('&')\n",
    "s"
   ]
  },
  {
   "cell_type": "code",
   "execution_count": 13,
   "metadata": {},
   "outputs": [
    {
     "ename": "TypeError",
     "evalue": "unhashable type: 'set'",
     "output_type": "error",
     "traceback": [
      "\u001b[0;31m---------------------------------------------------------------------------\u001b[0m",
      "\u001b[0;31mTypeError\u001b[0m                                 Traceback (most recent call last)",
      "\u001b[0;32m/var/folders/49/rc6t69fs6c31c_b7_sr71v2r0000gn/T/ipykernel_63357/3796323778.py\u001b[0m in \u001b[0;36m<module>\u001b[0;34m\u001b[0m\n\u001b[0;32m----> 1\u001b[0;31m \u001b[0mt\u001b[0m \u001b[0;34m=\u001b[0m \u001b[0;34m{\u001b[0m\u001b[0;34m{\u001b[0m\u001b[0;36m1\u001b[0m\u001b[0;34m}\u001b[0m\u001b[0;34m,\u001b[0m \u001b[0;36m2\u001b[0m\u001b[0;34m,\u001b[0m \u001b[0;36m3\u001b[0m\u001b[0;34m,\u001b[0m \u001b[0;36m4\u001b[0m\u001b[0;34m,\u001b[0m \u001b[0;36m5\u001b[0m\u001b[0;34m}\u001b[0m\u001b[0;34m\u001b[0m\u001b[0;34m\u001b[0m\u001b[0m\n\u001b[0m",
      "\u001b[0;31mTypeError\u001b[0m: unhashable type: 'set'"
     ]
    }
   ],
   "source": [
    "t = {{1}, 2, 3, 4, 5}"
   ]
  }
 ],
 "metadata": {
  "language_info": {
   "name": "python"
  },
  "orig_nbformat": 4
 },
 "nbformat": 4,
 "nbformat_minor": 2
}
