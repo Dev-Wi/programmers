{
 "cells": [
  {
   "cell_type": "code",
   "execution_count": 18,
   "metadata": {},
   "outputs": [
    {
     "name": "stdout",
     "output_type": "stream",
     "text": [
      "[['111'], ['20', '111'], ['111', '20', '333'], ['20', '333', '444', '111']]\n"
     ]
    },
    {
     "data": {
      "text/plain": [
       "[111, 20, 333, 444]"
      ]
     },
     "execution_count": 18,
     "metadata": {},
     "output_type": "execute_result"
    }
   ],
   "source": [
    "def solution(s):\n",
    "    answer = []\n",
    "    # 입력값(문자열) 사용할 수 있도록 정제\n",
    "    s = s.replace('{{', '')\n",
    "    s = s.replace('}}', '')\n",
    "    s = s.replace('},{', '&')\n",
    "    s = s.split('&')\n",
    "    # 정제한 입력값을 빈 리스트에 넣어줌\n",
    "    a = []\n",
    "    for i in s:\n",
    "        b = i.split(',')\n",
    "        a.append(b)\n",
    "    # 리스트를 요소 갯수 오름차순으로 정렬\n",
    "    a.sort(key=len)\n",
    "    # 입력값이 1개만 있을 경우 0 리턴\n",
    "    if len(s) == 1:\n",
    "        return [int(s[0])]\n",
    "    # 요소 갯수가 적은 순서대로 반복문을 돌며 answer에 없는 값은 정수로 추가\n",
    "    for i in a:\n",
    "        for j in range(len(i)):\n",
    "            if int(i[j]) not in answer:\n",
    "                answer.append(int(i[j]))\n",
    "    return answer\n",
    "\n",
    "s = \"{{20,111},{111},{111,20,333},{20,333,444,111}}\"\n",
    "solution(s)"
   ]
  },
  {
   "cell_type": "code",
   "execution_count": 3,
   "metadata": {},
   "outputs": [
    {
     "name": "stdout",
     "output_type": "stream",
     "text": [
      "20,111&111&111,20,333&20,333,444,111\n"
     ]
    },
    {
     "data": {
      "text/plain": [
       "[['20', '111'], ['111'], ['111', '20', '333'], ['20', '333', '444', '111']]"
      ]
     },
     "execution_count": 3,
     "metadata": {},
     "output_type": "execute_result"
    }
   ],
   "source": [
    "s = \"{{20,111},{111},{111,20,333},{20,333,444,111}}\"\n",
    "s = s.replace('{{', '')\n",
    "s = s.replace('}}', '')\n",
    "s = s.replace('},{', '&')\n",
    "print(s)\n",
    "s = s.split('&')\n",
    "a = []\n",
    "for i in s:\n",
    "    b = i.split(',')\n",
    "    a.append(b)\n",
    "a   \n"
   ]
  },
  {
   "cell_type": "code",
   "execution_count": 13,
   "metadata": {},
   "outputs": [
    {
     "ename": "TypeError",
     "evalue": "unhashable type: 'set'",
     "output_type": "error",
     "traceback": [
      "\u001b[0;31m---------------------------------------------------------------------------\u001b[0m",
      "\u001b[0;31mTypeError\u001b[0m                                 Traceback (most recent call last)",
      "\u001b[0;32m/var/folders/49/rc6t69fs6c31c_b7_sr71v2r0000gn/T/ipykernel_63357/3796323778.py\u001b[0m in \u001b[0;36m<module>\u001b[0;34m\u001b[0m\n\u001b[0;32m----> 1\u001b[0;31m \u001b[0mt\u001b[0m \u001b[0;34m=\u001b[0m \u001b[0;34m{\u001b[0m\u001b[0;34m{\u001b[0m\u001b[0;36m1\u001b[0m\u001b[0;34m}\u001b[0m\u001b[0;34m,\u001b[0m \u001b[0;36m2\u001b[0m\u001b[0;34m,\u001b[0m \u001b[0;36m3\u001b[0m\u001b[0;34m,\u001b[0m \u001b[0;36m4\u001b[0m\u001b[0;34m,\u001b[0m \u001b[0;36m5\u001b[0m\u001b[0;34m}\u001b[0m\u001b[0;34m\u001b[0m\u001b[0;34m\u001b[0m\u001b[0m\n\u001b[0m",
      "\u001b[0;31mTypeError\u001b[0m: unhashable type: 'set'"
     ]
    }
   ],
   "source": [
    "t = {{1}, 2, 3, 4, 5}"
   ]
  }
 ],
 "metadata": {
  "kernelspec": {
   "display_name": "Python 3",
   "language": "python",
   "name": "python3"
  },
  "language_info": {
   "codemirror_mode": {
    "name": "ipython",
    "version": 3
   },
   "file_extension": ".py",
   "mimetype": "text/x-python",
   "name": "python",
   "nbconvert_exporter": "python",
   "pygments_lexer": "ipython3",
   "version": "3.9.13"
  },
  "orig_nbformat": 4
 },
 "nbformat": 4,
 "nbformat_minor": 2
}
