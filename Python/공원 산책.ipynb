{
 "cells": [
  {
   "attachments": {},
   "cell_type": "markdown",
   "metadata": {},
   "source": [
    "## 문제 설명\n",
    "지나다니는 길을 'O', 장애물을 'X'로 나타낸 직사각형 격자 모양의 공원에서 로봇 강아지가 산책을 하려합니다. 산책은 로봇 강아지에 미리 입력된 명령에 따라 진행하며, 명령은 다음과 같은 형식으로 주어집니다.\n",
    "\n",
    "[\"방향 거리\", \"방향 거리\" … ]\n",
    "예를 들어 \"E 5\"는 로봇 강아지가 현재 위치에서 동쪽으로 5칸 이동했다는 의미입니다. 로봇 강아지는 명령을 수행하기 전에 다음 두 가지를 먼저 확인합니다.\n",
    "\n",
    "주어진 방향으로 이동할 때 공원을 벗어나는지 확인합니다.\n",
    "주어진 방향으로 이동 중 장애물을 만나는지 확인합니다.\n",
    "위 두 가지중 어느 하나라도 해당된다면, 로봇 강아지는 해당 명령을 무시하고 다음 명령을 수행합니다.\n",
    "공원의 가로 길이가 W, 세로 길이가 H라고 할 때, 공원의 좌측 상단의 좌표는 (0, 0), 우측 하단의 좌표는 (H - 1, W - 1) 입니다.\n",
    "\n",
    "공원을 나타내는 문자열 배열 park, 로봇 강아지가 수행할 명령이 담긴 문자열 배열 routes가 매개변수로 주어질 때, 로봇 강아지가 모든 명령을 수행 후 놓인 위치를 [세로 방향 좌표, 가로 방향 좌표] 순으로 배열에 담아 return 하도록 solution 함수를 완성해주세요.\n",
    "\n",
    "## 제한사항\n",
    "- 3 ≤ park의 길이 ≤ 50\n",
    "    - 3 ≤ park[i]의 길이 ≤ 50\n",
    "        - park[i]는 다음 문자들로 이루어져 있으며 시작지점은 하나만 주어집니다.\n",
    "            - S : 시작 지점\n",
    "            - O : 이동 가능한 통로\n",
    "            - X : 장애물\n",
    "        - park는 직사각형 모양입니다.\n",
    "        \n",
    "- 1 ≤ routes의 길이 ≤ 50\n",
    "    - routes의 각 원소는 로봇 강아지가 수행할 명령어를 나타냅니다.\n",
    "    - 로봇 강아지는 routes의 첫 번째 원소부터 순서대로 명령을 수행합니다.\n",
    "    - routes의 원소는 \"op n\"과 같은 구조로 이루어져 있으며, op는 이동할 방향, n은 이동할 칸의 수를 의미합니다.\n",
    "    - op는 다음 네 가지중 하나로 이루어져 있습니다.\n",
    "        - N : 북쪽으로 주어진 칸만큼 이동합니다.\n",
    "        - S : 남쪽으로 주어진 칸만큼 이동합니다.\n",
    "        - W : 서쪽으로 주어진 칸만큼 이동합니다.\n",
    "        - E : 동쪽으로 주어진 칸만큼 이동합니다.\n",
    "    - 1 ≤ n ≤ 9"
   ]
  },
  {
   "cell_type": "code",
   "execution_count": 10,
   "metadata": {},
   "outputs": [
    {
     "data": {
      "text/plain": [
       "[0, 0]"
      ]
     },
     "execution_count": 10,
     "metadata": {},
     "output_type": "execute_result"
    }
   ],
   "source": [
    "def solution(park, routes):\n",
    "    x = 0\n",
    "    y = 0\n",
    "    for i in range(len(park)):\n",
    "        for j in range(len(park[i])):\n",
    "            if park[i][j] == 'S':\n",
    "                x = j\n",
    "                y = i\n",
    "                break\n",
    "    for i in routes:\n",
    "        a = x\n",
    "        b = y\n",
    "        for j in range(int(i[2])):\n",
    "            if i[0] == 'N' and b != 0 and park[b-1][a] != 'X':\n",
    "                b -= 1\n",
    "                if j == int(i[2])-1:\n",
    "                    y = b\n",
    "            elif i[0] == 'S' and b != len(park)-1 and park[b+1][a] != 'X':\n",
    "                b += 1\n",
    "                if j == int(i[2])-1:\n",
    "                    y = b\n",
    "            elif i[0] == 'W' and a != 0 and park[b][a-1] != 'X':\n",
    "                a -= 1\n",
    "                if j == int(i[2])-1:\n",
    "                    x = a\n",
    "            elif i[0] == 'E' and a != len(park[0]) - 1 and park[b][a+1] != 'X':\n",
    "                a += 1\n",
    "                if j == int(i[2])-1:\n",
    "                    x = a\n",
    "    return [y, x]\n",
    "\n",
    "\n",
    "park = [\"OSO\",\"OOO\",\"OXO\",\"OOO\"]\n",
    "routes = [\"E 2\",\"S 3\",\"W 1\"]\n",
    "solution(park, routes)"
   ]
  },
  {
   "cell_type": "code",
   "execution_count": 21,
   "metadata": {},
   "outputs": [
    {
     "data": {
      "text/plain": [
       "['OSO', 'OOO', 'OXO']"
      ]
     },
     "execution_count": 21,
     "metadata": {},
     "output_type": "execute_result"
    }
   ],
   "source": [
    "park2 = [\"OSO\",\"OOO\",\"OXO\",\"OOO\"]\n",
    "park2[0:3]"
   ]
  },
  {
   "cell_type": "code",
   "execution_count": null,
   "metadata": {},
   "outputs": [],
   "source": [
    "    # for i in routes:\n",
    "    #     print('시작', y, x)\n",
    "    #     if y != 0 and i[0] == 'N':\n",
    "    #         if park[y-1][x] != 'X' and y-int(i[2]) > -1:\n",
    "    #             y = y-int(i[2])\n",
    "    #             print(i)\n",
    "    #     if y != len(park)-1 and i[0] == 'S':\n",
    "    #         if park[y+1][x] != 'X' and y+int(i[2]) < len(park):\n",
    "    #             print(y+int(i[2]), len(park))\n",
    "    #             y = y+int(i[2])\n",
    "    #             print(i)\n",
    "    #     if x != 0 and i[0] == 'W':\n",
    "    #         if park[y][x-1] != 'X' and x-int(i[2]) > -1:\n",
    "    #             x = x-int(i[2])\n",
    "    #             print(i)\n",
    "    #     if x != len(park[0])-1 and i[0] == 'E':\n",
    "    #         if park[y][x+1] != 'X' and x+int(i[2]) < len(park[0]):\n",
    "    #             x = x+int(i[2])\n",
    "    #             print(i)"
   ]
  },
  {
   "cell_type": "code",
   "execution_count": 2,
   "metadata": {},
   "outputs": [
    {
     "name": "stdout",
     "output_type": "stream",
     "text": [
      "0\n",
      "1\n"
     ]
    }
   ],
   "source": [
    "for i in range(2):\n",
    "    print(i)"
   ]
  }
 ],
 "metadata": {
  "kernelspec": {
   "display_name": "base",
   "language": "python",
   "name": "python3"
  },
  "language_info": {
   "codemirror_mode": {
    "name": "ipython",
    "version": 3
   },
   "file_extension": ".py",
   "mimetype": "text/x-python",
   "name": "python",
   "nbconvert_exporter": "python",
   "pygments_lexer": "ipython3",
   "version": "3.9.13"
  },
  "orig_nbformat": 4
 },
 "nbformat": 4,
 "nbformat_minor": 2
}
