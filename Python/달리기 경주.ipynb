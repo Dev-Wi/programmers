{
 "cells": [
  {
   "cell_type": "code",
   "execution_count": null,
   "metadata": {},
   "outputs": [],
   "source": [
    "def solution(players, callings):\n",
    "    idx = {i : player for i, player in enumerate(players)} # 등수 : 선수 딕셔너리\n",
    "    p = {player : i for i, player in enumerate(players)} # 선수 : 등수 딕셔너리\n",
    "\n",
    "    for i in callings:\n",
    "        loc = p[i] # 현재 등수\n",
    "        loc2 = loc-1 # 앞 등수\n",
    "        i2 = idx[loc2] # 앞 선수\n",
    "\n",
    "        idx[loc] = i2 # 등수 : 선수 딕셔너리에서 현재 등수의 선수를 앞 선수로 업\n",
    "        idx[loc2] = i # 등수 : 선수 딕셔너리에서 앞 등수의 선수를 현재 선수로 다운\n",
    "\n",
    "        p[i] = loc2 # 선수 : 등수 딕셔너리에서 현재 선수의 등수를 앞 등수로 업\n",
    "        p[i2] = loc # 선수 : 등수 딕셔너리에서 앞 선수의 등수를 현재 등수로 다운\n",
    "    \n",
    "    return list(idx.values())"
   ]
  }
 ],
 "metadata": {
  "language_info": {
   "name": "python"
  },
  "orig_nbformat": 4
 },
 "nbformat": 4,
 "nbformat_minor": 2
}
