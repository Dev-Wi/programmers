{
 "cells": [
  {
   "cell_type": "code",
   "execution_count": 30,
   "metadata": {},
   "outputs": [
    {
     "data": {
      "text/plain": [
       "8"
      ]
     },
     "execution_count": 30,
     "metadata": {},
     "output_type": "execute_result"
    }
   ],
   "source": [
    "def solution(k, m, score):\n",
    "    answer = 0\n",
    "    score.sort(reverse=True)\n",
    "    score = [score[i:i+m] for i in range(0, len(score), m)]\n",
    "    for i in score:\n",
    "        if len(i) == m:\n",
    "            answer += min(i)*m\n",
    "    return answer\n",
    "\n",
    "k = 3\n",
    "m = 4\n",
    "score = [1, 2, 3, 1, 2, 3, 1]\n",
    "solution(k, m, score)"
   ]
  },
  {
   "cell_type": "code",
   "execution_count": 51,
   "metadata": {},
   "outputs": [
    {
     "name": "stdout",
     "output_type": "stream",
     "text": [
      "9\n",
      "8\n",
      "7\n",
      "6\n",
      "5\n",
      "4\n",
      "3\n",
      "2\n",
      "1\n",
      "0\n"
     ]
    },
    {
     "data": {
      "text/plain": [
       "'321'"
      ]
     },
     "execution_count": 51,
     "metadata": {},
     "output_type": "execute_result"
    }
   ],
   "source": [
    "def solution2(X, Y):\n",
    "    answer = ''\n",
    "    a = list(X)\n",
    "    b = list(Y)\n",
    "    for i in reversed(range(10)):\n",
    "        if a.count(str(i)) != 0 and b.count(str(i)):\n",
    "            answer += str(i) * min(a.count(str(i)), b.count(str(i)))\n",
    "    return answer\n",
    "\n",
    "X = \"12321\"\n",
    "Y = \"42531\"\n",
    "solution2(X, Y)"
   ]
  },
  {
   "cell_type": "code",
   "execution_count": 45,
   "metadata": {},
   "outputs": [
    {
     "name": "stdout",
     "output_type": "stream",
     "text": [
      "9\n",
      "8\n",
      "7\n",
      "6\n",
      "5\n",
      "4\n",
      "3\n",
      "2\n",
      "1\n",
      "0\n"
     ]
    }
   ],
   "source": [
    "for i in reversed(range(10)):\n",
    "    print(i)"
   ]
  },
  {
   "cell_type": "code",
   "execution_count": 8,
   "metadata": {},
   "outputs": [
    {
     "name": "stdout",
     "output_type": "stream",
     "text": [
      "시작 : yemawoo\n",
      "mawoo\n",
      "woo\n",
      "시작 : woo\n",
      "\n",
      "\n"
     ]
    },
    {
     "data": {
      "text/plain": [
       "1"
      ]
     },
     "execution_count": 8,
     "metadata": {},
     "output_type": "execute_result"
    }
   ],
   "source": [
    "def solution(babbling):\n",
    "    answer = 0\n",
    "    for x in babbling:\n",
    "        next_voice = 0\n",
    "        while babbling:\n",
    "            print('시작 :', x)\n",
    "            if x[0:3] == \"aya\" and next_voice!= 1:\n",
    "                x = x[3:]\n",
    "                print(x)\n",
    "                next_voice = 1\n",
    "            if x[0:2] == \"ye\" and next_voice !=2:\n",
    "                x = x[2:]\n",
    "                print(x)\n",
    "                next_voice = 2\n",
    "            if x[0:3] == \"woo\" and next_voice != 3:\n",
    "                x = x[3:]\n",
    "                print(x)\n",
    "                next_voice = 3\n",
    "            if x[0:2] == \"ma\" and next_voice != 4:\n",
    "                x = x[2:]\n",
    "                print(x)\n",
    "                next_voice = 4\n",
    "            else :\n",
    "                break\n",
    "        print(x)\n",
    "        if x == \"\" :\n",
    "            answer += 1\n",
    "    return answer\n",
    "\n",
    "babbling = ['yemawoo']\n",
    "solution(babbling)"
   ]
  },
  {
   "cell_type": "code",
   "execution_count": 19,
   "metadata": {},
   "outputs": [
    {
     "data": {
      "text/plain": [
       "['mumu', 'kai', 'mine', 'soe', 'poe']"
      ]
     },
     "execution_count": 19,
     "metadata": {},
     "output_type": "execute_result"
    }
   ],
   "source": [
    "def solution(players, callings):\n",
    "    idx = {i : player for i, player in enumerate(players)} # 등수 : 선수 딕셔너리\n",
    "    p = {player : i for i, player in enumerate(players)} # 선수 : 등수 딕셔너리\n",
    "\n",
    "    for i in callings:\n",
    "        loc = p[i] # 현재 등수\n",
    "        loc2 = loc-1 # 앞 등수\n",
    "        i2 = idx[loc2] # 앞 선수\n",
    "\n",
    "        idx[loc] = i2\n",
    "        idx[loc2] = i\n",
    "\n",
    "        p[i] = loc2\n",
    "        p[i2] = loc\n",
    "    \n",
    "    return list(idx.values())\n",
    "\n",
    "players = [\"mumu\", \"soe\", \"poe\", \"kai\", \"mine\"]\n",
    "callings = [\"kai\", \"kai\", \"mine\", \"mine\"]\n",
    "\n",
    "solution(players, callings)"
   ]
  },
  {
   "cell_type": "code",
   "execution_count": 17,
   "metadata": {},
   "outputs": [
    {
     "data": {
      "text/plain": [
       "{1: 'wi', 2: 'jung', 3: 'woo'}"
      ]
     },
     "execution_count": 17,
     "metadata": {},
     "output_type": "execute_result"
    }
   ],
   "source": [
    "rank = {}\n",
    "rank[1] = 'wi'\n",
    "rank[2] = 'jung'\n",
    "rank[3] = 'woo'\n",
    "rank\n",
    "# rank.sort(key=lambda x : x[1])\n"
   ]
  },
  {
   "cell_type": "code",
   "execution_count": 27,
   "metadata": {},
   "outputs": [
    {
     "data": {
      "text/plain": [
       "'0011'"
      ]
     },
     "execution_count": 27,
     "metadata": {},
     "output_type": "execute_result"
    }
   ],
   "source": [
    "t = ['1', '1', '0', '0']\n",
    "t.reverse()\n",
    "t = ''.join(t)\n",
    "t"
   ]
  },
  {
   "cell_type": "code",
   "execution_count": 2,
   "metadata": {},
   "outputs": [],
   "source": [
    "test = ['NewYork']\n",
    "if 'newyork' in test:\n",
    "    print(True)"
   ]
  }
 ],
 "metadata": {
  "kernelspec": {
   "display_name": "base",
   "language": "python",
   "name": "python3"
  },
  "language_info": {
   "codemirror_mode": {
    "name": "ipython",
    "version": 3
   },
   "file_extension": ".py",
   "mimetype": "text/x-python",
   "name": "python",
   "nbconvert_exporter": "python",
   "pygments_lexer": "ipython3",
   "version": "3.9.13"
  },
  "orig_nbformat": 4,
  "vscode": {
   "interpreter": {
    "hash": "0a9ea8e85da2f384b1c3f5dcd6476f336ef5c24a89f3251f47d2a5a5d8a771b5"
   }
  }
 },
 "nbformat": 4,
 "nbformat_minor": 2
}
