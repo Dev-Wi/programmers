{
 "cells": [
  {
   "cell_type": "code",
   "execution_count": 4,
   "metadata": {},
   "outputs": [
    {
     "name": "stdout",
     "output_type": "stream",
     "text": [
      "i = 9\n",
      "0\n",
      "0\n",
      "\n",
      "i = 8\n",
      "0\n",
      "0\n",
      "\n",
      "i = 7\n",
      "0\n",
      "0\n",
      "\n",
      "i = 6\n",
      "0\n",
      "0\n",
      "\n",
      "i = 5\n",
      "0\n",
      "1\n",
      "\n",
      "i = 4\n",
      "0\n",
      "1\n",
      "\n",
      "i = 3\n",
      "1\n",
      "1\n",
      "3\n",
      "i = 2\n",
      "2\n",
      "1\n",
      "32\n",
      "i = 1\n",
      "2\n",
      "1\n",
      "321\n",
      "i = 0\n",
      "0\n",
      "0\n",
      "321\n"
     ]
    },
    {
     "data": {
      "text/plain": [
       "'321'"
      ]
     },
     "execution_count": 4,
     "metadata": {},
     "output_type": "execute_result"
    }
   ],
   "source": [
    "def solution(X, Y):\n",
    "    answer = ''\n",
    "    a = list(X)\n",
    "    b = list(Y)\n",
    "    for i in reversed(range(10)):\n",
    "        answer += str(i) * min(a.count(str(i)), b.count(str(i)))\n",
    "\n",
    "    if answer == '':\n",
    "        return '-1'\n",
    "    elif answer[0] == '0':\n",
    "        return '0'\n",
    "    \n",
    "    return answer\n",
    "\n",
    "X = \"12321\"\n",
    "Y = \"42531\"\n",
    "solution(X, Y)"
   ]
  },
  {
   "cell_type": "code",
   "execution_count": null,
   "metadata": {},
   "outputs": [],
   "source": [
    "test = '10204525'\n"
   ]
  }
 ],
 "metadata": {
  "kernelspec": {
   "display_name": "base",
   "language": "python",
   "name": "python3"
  },
  "language_info": {
   "codemirror_mode": {
    "name": "ipython",
    "version": 3
   },
   "file_extension": ".py",
   "mimetype": "text/x-python",
   "name": "python",
   "nbconvert_exporter": "python",
   "pygments_lexer": "ipython3",
   "version": "3.9.13"
  },
  "orig_nbformat": 4
 },
 "nbformat": 4,
 "nbformat_minor": 2
}
